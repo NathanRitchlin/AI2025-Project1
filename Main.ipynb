{
 "cells": [
  {
   "cell_type": "code",
   "execution_count": 271,
   "id": "5fb5a19fc8643fb4",
   "metadata": {
    "ExecuteTime": {
     "end_time": "2025-09-09T18:52:52.602655Z",
     "start_time": "2025-09-09T18:52:52.596251Z"
    }
   },
   "outputs": [],
   "source": [
    "import copy\n",
    "import numpy\n",
    "import random\n",
    "import math"
   ]
  },
  {
   "cell_type": "code",
   "execution_count": 272,
   "id": "12da17635fbb09b",
   "metadata": {
    "ExecuteTime": {
     "end_time": "2025-09-09T18:52:52.627873Z",
     "start_time": "2025-09-09T18:52:52.624901Z"
    }
   },
   "outputs": [],
   "source": [
    "GROUP_ID = 'Group04'\n",
    "ALGORITHM = 'bt'\n",
    "PUZZLE_TYPE = 'easy'\n",
    "PUZZLE_PATH = 'puzzles/Easy-P2.txt'"
   ]
  },
  {
   "cell_type": "code",
   "execution_count": 273,
   "id": "36ae2335a317a646",
   "metadata": {
    "ExecuteTime": {
     "end_time": "2025-09-09T18:52:52.640346Z",
     "start_time": "2025-09-09T18:52:52.636036Z"
    }
   },
   "outputs": [],
   "source": [
    "def printPuzzle(puzzle):\n",
    "    for row in range(9):\n",
    "        for column in range(8):\n",
    "            print(puzzle[row][column].value + \",\", end = \"\")\n",
    "        print(puzzle[row][8].value)\n",
    "    print(\"\\n\")"
   ]
  },
  {
   "cell_type": "code",
   "execution_count": 274,
   "id": "b4894797d4ad2d0f",
   "metadata": {
    "ExecuteTime": {
     "end_time": "2025-09-09T18:53:05.806577Z",
     "start_time": "2025-09-09T18:53:05.797570Z"
    }
   },
   "outputs": [],
   "source": [
    "'''\n",
    "def generateRandomPuzzle(originalPuzzle):\n",
    "    ##want to create row consistency at the very least\n",
    "    newPuzzle = copy.deepcopy(originalPuzzle)\n",
    "    for row in range(9):\n",
    "        possibleNums = ['1','2','3','4','5','6','7','8','9']\n",
    "        #determining the possible values for the row\n",
    "        for column in range(9):\n",
    "            tile = newPuzzle[row][column]\n",
    "            if(tile.fixed):\n",
    "                possibleNums.remove(tile.value)\n",
    "        for column in range(9):\n",
    "            tile = newPuzzle[row][column]\n",
    "            if not(tile.fixed):\n",
    "                randomNum = random.choice(possibleNums)\n",
    "                tile.value = randomNum\n",
    "                possibleNums.remove(randomNum)\n",
    "    return newPuzzle\n",
    "'''\n",
    "# Fill in the blank spots in the puzzle to create a random puzzle.\n",
    "# Fill in 3x3 squares at a time such that all values in the square are different\n",
    "def generateRandomPuzzle(originalPuzzle):\n",
    "    newPuzzle = copy.deepcopy(originalPuzzle)\n",
    "    for i in range(3):\n",
    "        for j in range(3):\n",
    "            nums = ['1','2','3','4','5','6','7','8','9']\n",
    "            for row in range(0+(i*3), (i*3)+3):\n",
    "                for column in range(0+(j*3), (j*3)+3):\n",
    "                    tile = originalPuzzle[row][column]\n",
    "                    if (tile.fixed == True):\n",
    "                        \n",
    "                        nums.remove(tile.value)\n",
    "            for row in range(0+(i*3), (i*3)+3):\n",
    "                for column in range(0+(j*3), (j*3)+3):\n",
    "                    tile = newPuzzle[row][column]\n",
    "                    if not(tile.fixed):\n",
    "                        tile.value = random.choice(nums)\n",
    "                        nums.remove(tile.value)\n",
    "    return newPuzzle\n",
    "    "
   ]
  },
  {
   "cell_type": "code",
   "execution_count": 275,
   "id": "bdc25a5fdf2eae6b",
   "metadata": {
    "ExecuteTime": {
     "end_time": "2025-09-09T18:52:52.662832600Z",
     "start_time": "2025-09-09T18:22:48.387092Z"
    }
   },
   "outputs": [],
   "source": [
    "class sudokuTile:\n",
    "    def __init__(self, pos, val, layer):\n",
    "        self.position = pos\n",
    "        self.layer = layer\n",
    "        self.value = val\n",
    "        self.fixed = True\n",
    "        if val == '?':\n",
    "            self.fixed = False\n",
    "            self.domain = ['1','2','3','4','5','6','7','8','9']\n",
    "        else:\n",
    "            self.domain = [val]"
   ]
  },
  {
   "cell_type": "code",
   "execution_count": 276,
   "id": "365276fc60cb96c7",
   "metadata": {
    "ExecuteTime": {
     "end_time": "2025-09-09T18:52:52.662832600Z",
     "start_time": "2025-09-09T18:22:48.399772Z"
    }
   },
   "outputs": [],
   "source": [
    "#adds up all the constraints violated in the puzzle and returns the value\n",
    "def checkConstraintsViolated(p):\n",
    "    violations = 0\n",
    "    # checks if puzzle passes row rule\n",
    "    for row in range(9):\n",
    "        nums = []\n",
    "        for column in range(9):\n",
    "            nums.append(p[row][column].value)\n",
    "        newNums = [item for item in nums if item != \"?\"]\n",
    "        setNums = set(newNums)\n",
    "        violations += len(newNums)- len(setNums)\n",
    "\n",
    "    # checks if puzzle passes column rule\n",
    "    for column in range(9):\n",
    "        nums = []\n",
    "        for row in range(9):\n",
    "            nums.append(p[row][column].value)\n",
    "        newNums = [item for item in nums if item != \"?\"]\n",
    "        setNums = set(newNums)\n",
    "        violations += len(newNums)- len(setNums)\n",
    "\n",
    "    # checks if puzzle passes 3x3 grid rules\n",
    "    for i in range(3):\n",
    "        for j in range(3):\n",
    "            nums = []\n",
    "            for row in range(0 + (i * 3), (i * 3) + 3):\n",
    "                for column in range(0 + (j * 3), (j * 3) + 3):\n",
    "                    nums.append(p[row][column].value)\n",
    "            newNums = [item for item in nums if item != \"?\"]\n",
    "            setNums = set(newNums)\n",
    "            violations += len(newNums)- len(setNums)\n",
    "    return violations"
   ]
  },
  {
   "cell_type": "code",
   "execution_count": 277,
   "id": "84d0e3fe0735b1bb",
   "metadata": {
    "ExecuteTime": {
     "end_time": "2025-09-09T18:52:52.670718600Z",
     "start_time": "2025-09-09T18:22:48.413491Z"
    }
   },
   "outputs": [],
   "source": [
    "def checkPuzzle(p):\n",
    "    numConstraintsViolated = checkConstraintsViolated(p)\n",
    "    if(numConstraintsViolated > 0):\n",
    "        return False\n",
    "    else:\n",
    "        return True"
   ]
  },
  {
   "cell_type": "code",
   "execution_count": 278,
   "id": "d242aa518c2b026b",
   "metadata": {
    "ExecuteTime": {
     "end_time": "2025-09-09T18:52:52.671676Z",
     "start_time": "2025-09-09T18:22:48.425020Z"
    }
   },
   "outputs": [],
   "source": [
    "#Simple backtracking algorithm using a stack\n",
    "def backTracking(puzzle):\n",
    "    #setting up the stack with the inital possible values for the first tile\n",
    "    stack = [(puzzle[0][0], d) for d in puzzle[0][0].domain]\n",
    "    layer = 0\n",
    "    steps = 0\n",
    "    while len(stack) > 0:\n",
    "        # pop the top value off of the stack, and set the given tile's value to the given value\n",
    "        prevLayer = layer\n",
    "        steps += 1\n",
    "        action = stack.pop()\n",
    "        tile = action[0]\n",
    "        val = action[1]\n",
    "        tile.value = val\n",
    "        # if the value is valid for the puzzle, add all the possible values for the next position on the board to the stack\n",
    "        if (checkPuzzle(puzzle)):\n",
    "            layer = tile.layer + 1\n",
    "            # puzzle has been solved\n",
    "            if (layer == 81):\n",
    "                break\n",
    "            row = layer // 9\n",
    "            col = layer % 9\n",
    "            nextTile = puzzle[row][col]\n",
    "            for d1 in nextTile.domain:\n",
    "                stack.append((nextTile, d1))\n",
    "        # if the value is not valid, set the tile back to an unknown, and don't continue searching that path (prune said branch)\n",
    "        else:\n",
    "            if (not tile.fixed):\n",
    "                layer = tile.layer\n",
    "                tile.value = '?'\n",
    "\n",
    "        # when backtracking, cleanup all unfixed tiles by turning them back into unknowns\n",
    "        if (prevLayer > layer):\n",
    "            for i in range(layer + 1, prevLayer):\n",
    "                row = i // 9\n",
    "                col = i % 9\n",
    "                resetTile = puzzle[row][col]\n",
    "                if not (resetTile.fixed):\n",
    "                    resetTile.value = '?'\n",
    "\n",
    "            # fix for edge case where puzzle couldn't backtrack to '1' in the starting square\n",
    "            if (len(stack) == 0 and puzzle[0][0].value == '?'):\n",
    "                puzzle[0][0].value = '1'\n",
    "                nextTile = puzzle[0][1]\n",
    "                for d1 in nextTile.domain:\n",
    "                    stack.append((nextTile, d1))\n",
    "    return puzzle, steps"
   ]
  },
  {
   "cell_type": "code",
   "execution_count": 279,
   "id": "ee31c3727d5c6dd4",
   "metadata": {
    "ExecuteTime": {
     "end_time": "2025-09-09T18:52:52.671676Z",
     "start_time": "2025-09-09T18:22:48.438450Z"
    }
   },
   "outputs": [],
   "source": [
    "#Backtracking algorithm with one-step forward checking\n",
    "def forwardChecking(puzzle):\n",
    "    #setting up the stack with the inital possible values for the first tile\n",
    "    stack = [(puzzle[0][0], d) for d in puzzle[0][0].domain]\n",
    "    layer = 0\n",
    "    steps = 0\n",
    "    while len(stack) > 0:\n",
    "        # pop the top value off of the stack, and set the given tile's value to the given value\n",
    "        prevLayer = layer\n",
    "        steps += 1\n",
    "        action = stack.pop()\n",
    "        tile = action[0]\n",
    "        val = action[1]\n",
    "        tile.value = val\n",
    "        # if the value is valid for the puzzle, add all the possible values for the next position on the board to the stack\n",
    "        if (checkPuzzle(puzzle)):\n",
    "            layer = tile.layer + 1\n",
    "            # puzzle has been solved\n",
    "            if (layer == 81):\n",
    "                break\n",
    "            row = layer // 9\n",
    "            col = layer % 9\n",
    "            nextTile = puzzle[row][col]\n",
    "            #Changed for forwardTracking-- edits the domain of the next tile if value of current one interferes(same row)\n",
    "            if(tile.position[0] == nextTile.position[0]):\n",
    "                checkedDomain = [num for num in nextTile.domain if num != val]\n",
    "            else:\n",
    "                checkedDomain = nextTile.domain\n",
    "            #If there are no numbers in the new domain, the value for the given tile is not possible\n",
    "            if(len(checkedDomain) == 0):\n",
    "                layer = tile.layer\n",
    "                if (not tile.fixed):\n",
    "                    tile.value = '?'\n",
    "            for d1 in checkedDomain:\n",
    "                stack.append((nextTile, d1))\n",
    "        # if the value is not valid, set the tile back to an unknown, and don't continue searching that path (prune said branch)\n",
    "        else:\n",
    "            layer = tile.layer\n",
    "            if (not tile.fixed):\n",
    "                tile.value = '?'\n",
    "\n",
    "        # when backtracking, cleanup all unfixed tiles by turning them back into unknowns\n",
    "        if (prevLayer > layer):\n",
    "            for i in range(layer + 1, prevLayer):\n",
    "                row = i // 9\n",
    "                col = i % 9\n",
    "                resetTile = puzzle[row][col]\n",
    "                if not (resetTile.fixed):\n",
    "                    resetTile.value = '?'\n",
    "\n",
    "            # fix for edge case where puzzle couldn't backtrack to '1' in the starting square\n",
    "            if (len(stack) == 0 and puzzle[0][0].value == '?'):\n",
    "                puzzle[0][0].value = '1'\n",
    "                nextTile = puzzle[0][1]\n",
    "                for d1 in nextTile.domain:\n",
    "                    stack.append((nextTile, d1))\n",
    "    return puzzle, steps"
   ]
  },
  {
   "cell_type": "code",
   "execution_count": 280,
   "id": "a598e01e",
   "metadata": {},
   "outputs": [],
   "source": [
    "# Makes a new puzzle from a given puzzle by swapping two values within one of the 3x3 grids\n",
    "def getNeighborPuzzle(puzzle):\n",
    "    neighbor = copy.deepcopy(puzzle)\n",
    "    startrow = random.choice([0,3,6])\n",
    "    startcol = random.choice([0,3,6])\n",
    "    fixed = 0\n",
    "    for r in range(startrow, startrow + 3):\n",
    "        for c in range(startcol, startcol + 3):\n",
    "            if (neighbor[r][c].fixed ==True):\n",
    "                fixed = fixed + 1\n",
    "    # Check if 3x3 square has all fixed points\n",
    "    if fixed >= 8:\n",
    "        return neighbor\n",
    "    row1 = random.choice(range(startrow,startrow + 3))\n",
    "    col1 = random.choice(range(startcol,startcol + 3))\n",
    "    row2 = random.choice(range(startrow,startrow + 3))\n",
    "    col2 = random.choice(range(startcol,startcol + 3))\n",
    "\n",
    "    while(neighbor[row1][col1].fixed == True):\n",
    "        row1 = random.choice(range(startrow,startrow + 3))\n",
    "        col1 = random.choice(range(startcol,startcol + 3))\n",
    "    while(neighbor[row2][col2].fixed == True):\n",
    "        row2 = random.choice(range(startrow,startrow + 3))\n",
    "        col2 = random.choice(range(startcol,startcol + 3))\n",
    "\n",
    "    temp = neighbor[row1][col1]\n",
    "    neighbor[row1][col1] = neighbor[row2][col2]\n",
    "    neighbor[row2][col2] = temp\n",
    "    return neighbor\n",
    "\n",
    "def simulatedAnnealing(puzzle,maxSteps,temp,a):\n",
    "    currentPuzzle = generateRandomPuzzle(puzzle)\n",
    "    k = 1\n",
    "    cutoff = 1e-4\n",
    "    for iteration in range(maxSteps):\n",
    "        t = temp/((iteration+1)*a)\n",
    "        #print(checkConstraintsViolated(currentPuzzle))\n",
    "        #printPuzzle(currentPuzzle)\n",
    "        if (checkConstraintsViolated(currentPuzzle) == 0):\n",
    "            return currentPuzzle\n",
    "        if (t < cutoff):\n",
    "            return currentPuzzle\n",
    "        nextPuzzle = getNeighborPuzzle(currentPuzzle)\n",
    "        delta = checkConstraintsViolated(currentPuzzle) - checkConstraintsViolated(nextPuzzle)\n",
    "\n",
    "        if (delta > 0):\n",
    "            currentPuzzle = nextPuzzle\n",
    "        elif (random.random() > math.exp(delta/k*t)):\n",
    "            currentPuzzle = nextPuzzle\n",
    "\n",
    "    return currentPuzzle\n",
    "        \n",
    "        "
   ]
  },
  {
   "cell_type": "code",
   "execution_count": 281,
   "id": "3129d968940807cd",
   "metadata": {
    "ExecuteTime": {
     "end_time": "2025-09-09T19:08:56.753881Z",
     "start_time": "2025-09-09T19:08:56.746475Z"
    }
   },
   "outputs": [],
   "source": [
    "def geneticCrossover(firstPuzzle, secondPuzzle, crossoverRate):\n",
    "    newPuzzle = copy.deepcopy(firstPuzzle)\n",
    "    for row in range(9):\n",
    "        for column in range(9):\n",
    "            randomNum = random.uniform(0, 1)\n",
    "            if (randomNum <= crossoverRate):\n",
    "                newPuzzle[row][column].value = secondPuzzle[row][column].value\n",
    "    return newPuzzle\n",
    "\n",
    "def geneticMutation(mutationRate, puzzle):\n",
    "    #want to mutate by picking a random row and swapping two (unfixed) values\n",
    "    newPuzzle = copy.deepcopy(puzzle)\n",
    "    randomNum = random.uniform(0, 1)\n",
    "    if (randomNum <= mutationRate):\n",
    "        randomRow = random.randrange(0,9)\n",
    "        foundSwaps = False\n",
    "        while(not foundSwaps):\n",
    "            randomCol1 = random.randrange(0,9)\n",
    "            tile1 = newPuzzle[randomRow][randomCol1]\n",
    "            randomCol2 = random.randrange(0,9)\n",
    "            tile2 = newPuzzle[randomRow][randomCol2]\n",
    "            if not (tile1.fixed or tile2.fixed):\n",
    "                tempVal = tile1.value\n",
    "                tile1.value = tile2.value\n",
    "                tile2.value = tempVal\n",
    "                foundSwaps = True\n",
    "\n",
    "    return newPuzzle\n",
    "\n",
    "\n",
    "def geneticAlgorithm(originalPuzzle, popSize, crossoverRate, mutationRate):\n",
    "    population = {}\n",
    "    #initializing the population\n",
    "    for i in range(popSize):\n",
    "        #create new puzzle\n",
    "        randomPuzzle = generateRandomPuzzle(originalPuzzle)\n",
    "        randomPuzzle = tuple(map(tuple, randomPuzzle))\n",
    "        #calculate the fitness of the puzzle\n",
    "        fitness = 1/(checkConstraintsViolated(randomPuzzle))\n",
    "        population[randomPuzzle] = fitness\n",
    "    #applying crossover and mutation to individuals to create children\n",
    "    #number of epochs\n",
    "    for i in range(100):\n",
    "        newPopulation = {}\n",
    "        for puzzle in population:\n",
    "            selectionPopulation = copy.deepcopy(population)\n",
    "            #TOURNAMENT:: MAY THE 2 BEST WIN\n",
    "            tourneySize = 10\n",
    "            tournament = {}\n",
    "            for t in range(tourneySize):\n",
    "                randomChamp = random.choice(list(selectionPopulation.keys()))\n",
    "                tournament[randomChamp] = selectionPopulation[randomChamp]\n",
    "                selectionPopulation.pop(randomChamp)\n",
    "            firstParent = max(tournament.keys(), key=tournament.get)\n",
    "            tournament.pop(firstParent)\n",
    "            secondParent = max(tournament.keys(), key=tournament.get)\n",
    "            newPuzzle = geneticCrossover(firstParent, secondParent, crossoverRate)\n",
    "            newPuzzle = geneticMutation(mutationRate, newPuzzle)\n",
    "            #need to calculate loss of new puzzle again and add it to the new population\n",
    "            fitness = 1/(checkConstraintsViolated(newPuzzle))\n",
    "            newPuzzle = tuple(map(tuple, newPuzzle))\n",
    "            newPopulation[newPuzzle] = fitness\n",
    "        population = newPopulation\n",
    "        print(\"Iteration \", i, \"least constraints violated:\" , 1/max(population.values()))\n",
    "    finalPuzzle = max(population.keys(), key=population.get)\n",
    "    return finalPuzzle\n",
    "\n"
   ]
  },
  {
   "cell_type": "code",
   "execution_count": 282,
   "id": "d53a9a8c8530c278",
   "metadata": {
    "ExecuteTime": {
     "end_time": "2025-09-09T18:52:52.674682700Z",
     "start_time": "2025-09-09T18:22:48.469993Z"
    }
   },
   "outputs": [
    {
     "name": "stdout",
     "output_type": "stream",
     "text": [
      "bt\n",
      "puzzles/Easy-P2.txt\n",
      "=====================\n",
      "Original Puzzle: \n",
      "5,7,?,?,?,?,2,?,?\n",
      "?,9,?,1,?,?,?,5,7\n",
      "1,?,?,?,7,?,?,3,6\n",
      "2,8,?,?,?,6,?,?,4\n",
      "9,6,?,8,?,5,?,2,3\n",
      "7,?,?,2,?,?,?,9,8\n",
      "8,3,?,?,5,?,?,?,9\n",
      "6,2,?,?,?,7,?,8,?\n",
      "?,?,7,?,?,?,?,6,2\n",
      "\n",
      "\n",
      "Solved Puzzle in 6714 steps:\n",
      "5,7,8,3,6,9,2,4,1\n",
      "3,9,6,1,2,4,8,5,7\n",
      "1,4,2,5,7,8,9,3,6\n",
      "2,8,3,7,9,6,5,1,4\n",
      "9,6,4,8,1,5,7,2,3\n",
      "7,1,5,2,4,3,6,9,8\n",
      "8,3,1,6,5,2,4,7,9\n",
      "6,2,9,4,3,7,1,8,5\n",
      "4,5,7,9,8,1,3,6,2\n",
      "\n",
      "\n"
     ]
    }
   ],
   "source": [
    "#Processes the sudoku file into a numpy array of sudokuTile objects\n",
    "arr = []\n",
    "layer = 0\n",
    "with open(PUZZLE_PATH, 'r') as file:\n",
    "    firstLine = True\n",
    "    rowNum = 0\n",
    "    for line in file:\n",
    "        colNum = 0\n",
    "        processedLine = line.rstrip('\\n')\n",
    "        if(firstLine):\n",
    "            row = processedLine[1:].split(\",\")\n",
    "            firstLine = False\n",
    "        else:\n",
    "            row = processedLine.split(\",\")\n",
    "        tileRow = []\n",
    "        for num in row:\n",
    "            tile = sudokuTile([rowNum, colNum], num, layer)\n",
    "            layer += 1\n",
    "            tileRow.append(tile)\n",
    "            colNum += 1\n",
    "        arr.append(tileRow)\n",
    "        rowNum += 1\n",
    "    file.close()\n",
    "puzzle = numpy.array(arr)\n",
    "originalPuzzle = copy.deepcopy(puzzle)\n",
    "if(ALGORITHM == 'bt'):\n",
    "    solvedPuzzle, steps = backTracking(puzzle)\n",
    "elif(ALGORITHM == 'fc'):\n",
    "    solvedPuzzle, steps = forwardChecking(puzzle)\n",
    "print(ALGORITHM)\n",
    "print(PUZZLE_PATH)\n",
    "print(\"=====================\")\n",
    "print(\"Original Puzzle: \")\n",
    "printPuzzle(originalPuzzle)\n",
    "print(\"Solved Puzzle in\", steps, \"steps:\")\n",
    "printPuzzle(solvedPuzzle)\n",
    "\n",
    "\n",
    "#Writing the finished puzzle to a file\n",
    "fileName = GROUP_ID + '_' + ALGORITHM + \"_\" + PUZZLE_TYPE + \"_\" + PUZZLE_PATH.lstrip(\"puzzles/\")\n",
    "with open(fileName, 'w') as file:\n",
    "    for row in range(9):\n",
    "        for column in range(8):\n",
    "            file.write(puzzle[row][column].value + \",\")\n",
    "        file.write(puzzle[row][8].value + '\\n')\n",
    "    file.close()"
   ]
  },
  {
   "cell_type": "code",
   "execution_count": 283,
   "id": "bac08a8810c338b3",
   "metadata": {
    "ExecuteTime": {
     "start_time": "2025-09-09T20:26:18.303981Z"
    },
    "jupyter": {
     "is_executing": true
    }
   },
   "outputs": [],
   "source": [
    "#originalPuzzle = arr\n",
    "#bestPuzzle = geneticAlgorithm(originalPuzzle, 150, 0.5, .1)\n",
    "#printPuzzle(bestPuzzle)\n",
    "#print(checkConstraintsViolated(bestPuzzle))\n",
    "\n"
   ]
  },
  {
   "cell_type": "code",
   "execution_count": 284,
   "id": "8df6dc45e6c42de6",
   "metadata": {
    "ExecuteTime": {
     "end_time": "2025-09-09T18:53:12.053808Z",
     "start_time": "2025-09-09T18:53:12.044167Z"
    }
   },
   "outputs": [
    {
     "name": "stdout",
     "output_type": "stream",
     "text": [
      "5,7,8,9,6,3,2,4,1\n",
      "3,9,6,1,2,4,8,5,7\n",
      "1,4,2,5,7,8,9,3,6\n",
      "2,8,5,7,9,6,6,1,4\n",
      "9,6,4,8,1,5,7,2,3\n",
      "7,1,3,2,3,4,5,9,8\n",
      "8,3,1,6,5,2,4,7,9\n",
      "6,2,9,1,4,7,3,8,5\n",
      "4,5,7,3,8,9,1,6,2\n",
      "\n",
      "\n",
      "4\n"
     ]
    }
   ],
   "source": [
    "best = simulatedAnnealing(originalPuzzle,100000,10,.7)\n",
    "printPuzzle(best)\n",
    "print(checkConstraintsViolated(best))\n"
   ]
  }
 ],
 "metadata": {
  "kernelspec": {
   "display_name": ".venv",
   "language": "python",
   "name": "python3"
  },
  "language_info": {
   "codemirror_mode": {
    "name": "ipython",
    "version": 3
   },
   "file_extension": ".py",
   "mimetype": "text/x-python",
   "name": "python",
   "nbconvert_exporter": "python",
   "pygments_lexer": "ipython3",
   "version": "3.12.3"
  }
 },
 "nbformat": 4,
 "nbformat_minor": 5
}
