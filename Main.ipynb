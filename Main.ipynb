{
 "cells": [
  {
   "metadata": {
    "ExecuteTime": {
     "end_time": "2025-09-08T21:35:06.762832Z",
     "start_time": "2025-09-08T21:35:06.756813Z"
    }
   },
   "cell_type": "code",
   "source": [
    "import copy\n",
    "import numpy\n",
    "import random"
   ],
   "id": "5fb5a19fc8643fb4",
   "outputs": [],
   "execution_count": 80
  },
  {
   "metadata": {
    "ExecuteTime": {
     "end_time": "2025-09-08T21:35:06.782032Z",
     "start_time": "2025-09-08T21:35:06.777956Z"
    }
   },
   "cell_type": "code",
   "source": [
    "GROUP_ID = 'Group04'\n",
    "ALGORITHM = 'bt'\n",
    "PUZZLE_TYPE = 'easy'\n",
    "PUZZLE_PATH = 'puzzles/Easy-P3.txt'"
   ],
   "id": "12da17635fbb09b",
   "outputs": [],
   "execution_count": 81
  },
  {
   "metadata": {
    "ExecuteTime": {
     "end_time": "2025-09-08T21:35:06.792787Z",
     "start_time": "2025-09-08T21:35:06.789184Z"
    }
   },
   "cell_type": "code",
   "source": [
    "def printPuzzle(puzzle):\n",
    "    for row in range(9):\n",
    "        for column in range(8):\n",
    "            print(puzzle[row][column].value + \",\", end = \"\")\n",
    "        print(puzzle[row][8].value)\n",
    "    print(\"\\n\")"
   ],
   "id": "36ae2335a317a646",
   "outputs": [],
   "execution_count": 82
  },
  {
   "metadata": {
    "ExecuteTime": {
     "end_time": "2025-09-08T21:35:06.804999Z",
     "start_time": "2025-09-08T21:35:06.800927Z"
    }
   },
   "cell_type": "code",
   "source": [
    "def generateRandomPuzzle(originalPuzzle):\n",
    "    newPuzzle = copy.deepcopy(originalPuzzle)\n",
    "    for row in range(9):\n",
    "        for column in range(9):\n",
    "            tile = newPuzzle[row][column]\n",
    "            if not(tile.fixed):\n",
    "                tile.value = random.choice(tile.domain)\n",
    "    return newPuzzle"
   ],
   "id": "b4894797d4ad2d0f",
   "outputs": [],
   "execution_count": 83
  },
  {
   "metadata": {
    "ExecuteTime": {
     "end_time": "2025-09-08T21:35:06.816158Z",
     "start_time": "2025-09-08T21:35:06.812374Z"
    }
   },
   "cell_type": "code",
   "source": [
    "class sudokuTile:\n",
    "    def __init__(self, pos, val, layer):\n",
    "        self.position = pos\n",
    "        self.layer = layer\n",
    "        self.value = val\n",
    "        self.fixed = True\n",
    "        if val == '?':\n",
    "            self.fixed = False\n",
    "            self.domain = ['1','2','3','4','5','6','7','8','9']\n",
    "        else:\n",
    "            self.domain = [val]"
   ],
   "id": "bdc25a5fdf2eae6b",
   "outputs": [],
   "execution_count": 84
  },
  {
   "metadata": {
    "ExecuteTime": {
     "end_time": "2025-09-08T21:35:06.829115Z",
     "start_time": "2025-09-08T21:35:06.824091Z"
    }
   },
   "cell_type": "code",
   "source": [
    "def checkPuzzle(p):\n",
    "    #checks if puzzle passes row rule\n",
    "    for row in range(9):\n",
    "        nums = []\n",
    "        for column in range(9):\n",
    "            nums.append(p[row][column].value)\n",
    "        newNums = [item for item in nums if item != \"?\"]\n",
    "        setNums = set(newNums)\n",
    "        if len(newNums) > len(setNums):\n",
    "            #print(\"Fails to pass row rule\")\n",
    "            return False\n",
    "\n",
    "\n",
    "    #checks if puzzle passes column rule\n",
    "    for column in range(9):\n",
    "        nums = []\n",
    "        for row in range(9):\n",
    "            nums.append(p[row][column].value)\n",
    "        newNums = [item for item in nums if item != \"?\"]\n",
    "        setNums = set(newNums)\n",
    "        if len(newNums) > len(setNums):\n",
    "            #print(\"Fails to pass column rule\")\n",
    "            return False\n",
    "\n",
    "    #checks if puzzle passes 3x3 grid rules\n",
    "    for i in range(3):\n",
    "        for j in range(3):\n",
    "            nums = []\n",
    "            for row in range(0+(i*3), (i*3)+3):\n",
    "                for column in range(0+(j*3), (j*3)+3):\n",
    "                    nums.append(p[row][column].value)\n",
    "            newNums = [item for item in nums if item != \"?\"]\n",
    "            setNums = set(newNums)\n",
    "            if len(newNums) > len(setNums):\n",
    "                #print(\"Fails to pass 3x3 rule\")\n",
    "                return False\n",
    "    return True"
   ],
   "id": "84d0e3fe0735b1bb",
   "outputs": [],
   "execution_count": 85
  },
  {
   "metadata": {
    "ExecuteTime": {
     "end_time": "2025-09-08T21:35:06.841831Z",
     "start_time": "2025-09-08T21:35:06.835576Z"
    }
   },
   "cell_type": "code",
   "source": [
    "#Simple backtracking algorithm using a stack\n",
    "def backTracking(puzzle):\n",
    "    #setting up the stack with the inital possible values for the first tile\n",
    "    stack = [(puzzle[0][0], d) for d in puzzle[0][0].domain]\n",
    "    layer = 0\n",
    "    steps = 0\n",
    "    while len(stack) > 0:\n",
    "        # pop the top value off of the stack, and set the given tile's value to the given value\n",
    "        prevLayer = layer\n",
    "        steps += 1\n",
    "        action = stack.pop()\n",
    "        tile = action[0]\n",
    "        val = action[1]\n",
    "        tile.value = val\n",
    "        # if the value is valid for the puzzle, add all the possible values for the next position on the board to the stack\n",
    "        if (checkPuzzle(puzzle)):\n",
    "            layer = tile.layer + 1\n",
    "            # puzzle has been solved\n",
    "            if (layer == 81):\n",
    "                break\n",
    "            row = layer // 9\n",
    "            col = layer % 9\n",
    "            nextTile = puzzle[row][col]\n",
    "            for d1 in nextTile.domain:\n",
    "                stack.append((nextTile, d1))\n",
    "        # if the value is not valid, set the tile back to an unknown, and don't continue searching that path (prune said branch)\n",
    "        else:\n",
    "            if (not tile.fixed):\n",
    "                layer = tile.layer\n",
    "                tile.value = '?'\n",
    "\n",
    "        # when backtracking, cleanup all unfixed tiles by turning them back into unknowns\n",
    "        if (prevLayer > layer):\n",
    "            for i in range(layer + 1, prevLayer):\n",
    "                row = i // 9\n",
    "                col = i % 9\n",
    "                resetTile = puzzle[row][col]\n",
    "                if not (resetTile.fixed):\n",
    "                    resetTile.value = '?'\n",
    "\n",
    "            # fix for edge case where puzzle couldn't backtrack to '1' in the starting square\n",
    "            if (len(stack) == 0 and puzzle[0][0].value == '?'):\n",
    "                puzzle[0][0].value = '1'\n",
    "                nextTile = puzzle[0][1]\n",
    "                for d1 in nextTile.domain:\n",
    "                    stack.append((nextTile, d1))\n",
    "    return puzzle, steps"
   ],
   "id": "d242aa518c2b026b",
   "outputs": [],
   "execution_count": 86
  },
  {
   "metadata": {
    "ExecuteTime": {
     "end_time": "2025-09-08T21:35:06.853938Z",
     "start_time": "2025-09-08T21:35:06.847379Z"
    }
   },
   "cell_type": "code",
   "source": [
    "#Backtracking algorithm with one-step forward checking\n",
    "def forwardChecking(puzzle):\n",
    "    #setting up the stack with the inital possible values for the first tile\n",
    "    stack = [(puzzle[0][0], d) for d in puzzle[0][0].domain]\n",
    "    layer = 0\n",
    "    steps = 0\n",
    "    while len(stack) > 0:\n",
    "        # pop the top value off of the stack, and set the given tile's value to the given value\n",
    "        prevLayer = layer\n",
    "        steps += 1\n",
    "        action = stack.pop()\n",
    "        tile = action[0]\n",
    "        val = action[1]\n",
    "        tile.value = val\n",
    "        # if the value is valid for the puzzle, add all the possible values for the next position on the board to the stack\n",
    "        if (checkPuzzle(puzzle)):\n",
    "            layer = tile.layer + 1\n",
    "            # puzzle has been solved\n",
    "            if (layer == 81):\n",
    "                break\n",
    "            row = layer // 9\n",
    "            col = layer % 9\n",
    "            nextTile = puzzle[row][col]\n",
    "            #Changed for forwardTracking-- edits the domain of the next tile if value of current one interferes(same row)\n",
    "            if(tile.position[0] == nextTile.position[0]):\n",
    "                checkedDomain = [num for num in nextTile.domain if num != val]\n",
    "            else:\n",
    "                checkedDomain = nextTile.domain\n",
    "            #If there are no numbers in the new domain, the value for the given tile is not possible\n",
    "            if(len(checkedDomain) == 0):\n",
    "                layer = tile.layer\n",
    "                if (not tile.fixed):\n",
    "                    tile.value = '?'\n",
    "            for d1 in checkedDomain:\n",
    "                stack.append((nextTile, d1))\n",
    "        # if the value is not valid, set the tile back to an unknown, and don't continue searching that path (prune said branch)\n",
    "        else:\n",
    "            layer = tile.layer\n",
    "            if (not tile.fixed):\n",
    "                tile.value = '?'\n",
    "\n",
    "        # when backtracking, cleanup all unfixed tiles by turning them back into unknowns\n",
    "        if (prevLayer > layer):\n",
    "            for i in range(layer + 1, prevLayer):\n",
    "                row = i // 9\n",
    "                col = i % 9\n",
    "                resetTile = puzzle[row][col]\n",
    "                if not (resetTile.fixed):\n",
    "                    resetTile.value = '?'\n",
    "\n",
    "            # fix for edge case where puzzle couldn't backtrack to '1' in the starting square\n",
    "            if (len(stack) == 0 and puzzle[0][0].value == '?'):\n",
    "                puzzle[0][0].value = '1'\n",
    "                nextTile = puzzle[0][1]\n",
    "                for d1 in nextTile.domain:\n",
    "                    stack.append((nextTile, d1))\n",
    "    return puzzle, steps"
   ],
   "id": "ee31c3727d5c6dd4",
   "outputs": [],
   "execution_count": 87
  },
  {
   "metadata": {
    "ExecuteTime": {
     "end_time": "2025-09-08T21:35:07.324435Z",
     "start_time": "2025-09-08T21:35:06.863810Z"
    }
   },
   "cell_type": "code",
   "source": [
    "#Processes the sudoku file into a numpy array of sudokuTile objects\n",
    "arr = []\n",
    "layer = 0\n",
    "with open(PUZZLE_PATH, 'r') as file:\n",
    "    firstLine = True\n",
    "    rowNum = 0\n",
    "    for line in file:\n",
    "        colNum = 0\n",
    "        processedLine = line.rstrip('\\n')\n",
    "        if(firstLine):\n",
    "            row = processedLine[3:].split(\",\")\n",
    "            firstLine = False\n",
    "        else:\n",
    "            row = processedLine.split(\",\")\n",
    "        tileRow = []\n",
    "        for num in row:\n",
    "            tile = sudokuTile([rowNum, colNum], num, layer)\n",
    "            layer += 1\n",
    "            tileRow.append(tile)\n",
    "            colNum += 1\n",
    "        arr.append(tileRow)\n",
    "        rowNum += 1\n",
    "    file.close()\n",
    "puzzle = numpy.array(arr)\n",
    "originalPuzzle = copy.deepcopy(puzzle)\n",
    "if(ALGORITHM == 'bt'):\n",
    "    solvedPuzzle, steps = backTracking(puzzle)\n",
    "elif(ALGORITHM == 'fc'):\n",
    "    solvedPuzzle, steps = forwardChecking(puzzle)\n",
    "print(ALGORITHM)\n",
    "print(PUZZLE_PATH)\n",
    "print(\"=====================\")\n",
    "print(\"Original Puzzle: \")\n",
    "printPuzzle(originalPuzzle)\n",
    "print(\"Solved Puzzle in\", steps, \"steps:\")\n",
    "printPuzzle(solvedPuzzle)\n",
    "\n",
    "\n",
    "#Writing the finished puzzle to a file\n",
    "fileName = GROUP_ID + '_' + ALGORITHM + \"_\" + PUZZLE_TYPE + \"_\" + PUZZLE_PATH.lstrip(\"puzzles/\")\n",
    "with open(fileName, 'w') as file:\n",
    "    for row in range(9):\n",
    "        for column in range(8):\n",
    "            file.write(puzzle[row][column].value + \",\")\n",
    "        file.write(puzzle[row][8].value + '\\n')\n",
    "    file.close()"
   ],
   "id": "d53a9a8c8530c278",
   "outputs": [
    {
     "name": "stdout",
     "output_type": "stream",
     "text": [
      "bt\n",
      "puzzles/Easy-P3.txt\n",
      "=====================\n",
      "Original Puzzle: \n",
      "?,?,2,?,?,9,4,8,7\n",
      "?,?,7,?,?,?,5,9,1\n",
      "?,5,?,1,?,7,3,?,?\n",
      "2,?,?,?,9,?,?,7,?\n",
      "?,?,?,8,?,5,?,?,?\n",
      "?,9,?,?,3,?,?,?,5\n",
      "?,?,1,9,?,6,?,3,?\n",
      "3,2,6,?,?,?,1,?,?\n",
      "9,7,4,3,?,?,2,?,?\n",
      "\n",
      "\n",
      "Solved Puzzle in 18587 steps:\n",
      "1,3,2,5,6,9,4,8,7\n",
      "6,4,7,2,8,3,5,9,1\n",
      "8,5,9,1,4,7,3,2,6\n",
      "2,1,5,6,9,4,8,7,3\n",
      "7,6,3,8,1,5,9,4,2\n",
      "4,9,8,7,3,2,6,1,5\n",
      "5,8,1,9,2,6,7,3,4\n",
      "3,2,6,4,7,8,1,5,9\n",
      "9,7,4,3,5,1,2,6,8\n",
      "\n",
      "\n"
     ]
    }
   ],
   "execution_count": 88
  },
  {
   "metadata": {
    "ExecuteTime": {
     "end_time": "2025-09-08T21:36:30.711233Z",
     "start_time": "2025-09-08T21:36:30.702985Z"
    }
   },
   "cell_type": "code",
   "source": [
    "#Checking if random puzzle generation works\n",
    "printPuzzle(originalPuzzle)\n",
    "randomPuzzle = generateRandomPuzzle(originalPuzzle)\n",
    "printPuzzle(randomPuzzle)\n",
    "\n"
   ],
   "id": "bac08a8810c338b3",
   "outputs": [
    {
     "name": "stdout",
     "output_type": "stream",
     "text": [
      "?,?,2,?,?,9,4,8,7\n",
      "?,?,7,?,?,?,5,9,1\n",
      "?,5,?,1,?,7,3,?,?\n",
      "2,?,?,?,9,?,?,7,?\n",
      "?,?,?,8,?,5,?,?,?\n",
      "?,9,?,?,3,?,?,?,5\n",
      "?,?,1,9,?,6,?,3,?\n",
      "3,2,6,?,?,?,1,?,?\n",
      "9,7,4,3,?,?,2,?,?\n",
      "\n",
      "\n",
      "2,4,2,5,8,9,4,8,7\n",
      "5,4,7,1,9,8,5,9,1\n",
      "2,5,9,1,7,7,3,1,6\n",
      "2,4,5,1,9,8,8,7,4\n",
      "1,7,7,8,8,5,8,7,8\n",
      "2,9,8,4,3,5,7,6,5\n",
      "5,1,1,9,4,6,3,3,4\n",
      "3,2,6,4,9,2,1,2,1\n",
      "9,7,4,3,7,6,2,2,2\n",
      "\n",
      "\n"
     ]
    }
   ],
   "execution_count": 91
  }
 ],
 "metadata": {
  "kernelspec": {
   "display_name": "Python 3",
   "language": "python",
   "name": "python3"
  },
  "language_info": {
   "codemirror_mode": {
    "name": "ipython",
    "version": 2
   },
   "file_extension": ".py",
   "mimetype": "text/x-python",
   "name": "python",
   "nbconvert_exporter": "python",
   "pygments_lexer": "ipython2",
   "version": "2.7.6"
  }
 },
 "nbformat": 4,
 "nbformat_minor": 5
}
