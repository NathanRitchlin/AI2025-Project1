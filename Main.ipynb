{
 "cells": [
  {
   "metadata": {
    "ExecuteTime": {
     "end_time": "2025-08-27T20:55:16.856575Z",
     "start_time": "2025-08-27T20:55:16.852043Z"
    },
    "tags": [
     "parameters"
    ]
   },
   "cell_type": "code",
   "source": [
    "GROUP_ID = 'Group04'\n",
    "ALGORITHM = 'bt'\n",
    "PUZZLE_TYPE = 'easy'\n",
    "PUZZLE_PATH = 'puzzles/Easy-P1.txt'"
   ],
   "id": "c18f0bb8a5c18e00",
   "outputs": [
    {
     "name": "stdout",
     "output_type": "stream",
     "text": [
      "whattup\n"
     ]
    }
   ],
   "execution_count": 6
  },
  {
   "metadata": {},
   "cell_type": "code",
   "outputs": [],
   "execution_count": null,
   "source": "",
   "id": "12da17635fbb09b"
  }
 ],
 "metadata": {
  "kernelspec": {
   "display_name": "Python 3",
   "language": "python",
   "name": "python3"
  },
  "language_info": {
   "codemirror_mode": {
    "name": "ipython",
    "version": 2
   },
   "file_extension": ".py",
   "mimetype": "text/x-python",
   "name": "python",
   "nbconvert_exporter": "python",
   "pygments_lexer": "ipython2",
   "version": "2.7.6"
  }
 },
 "nbformat": 4,
 "nbformat_minor": 5
}
