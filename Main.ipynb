{
 "cells": [
  {
   "metadata": {
    "ExecuteTime": {
     "end_time": "2025-09-09T18:52:52.602655Z",
     "start_time": "2025-09-09T18:52:52.596251Z"
    }
   },
   "cell_type": "code",
   "source": [
    "import copy\n",
    "import numpy\n",
    "import random"
   ],
   "id": "5fb5a19fc8643fb4",
   "outputs": [],
   "execution_count": 170
  },
  {
   "metadata": {
    "ExecuteTime": {
     "end_time": "2025-09-09T18:52:52.627873Z",
     "start_time": "2025-09-09T18:52:52.624901Z"
    }
   },
   "cell_type": "code",
   "source": [
    "GROUP_ID = 'Group04'\n",
    "ALGORITHM = 'bt'\n",
    "PUZZLE_TYPE = 'easy'\n",
    "PUZZLE_PATH = 'puzzles/Easy-P3.txt'"
   ],
   "id": "12da17635fbb09b",
   "outputs": [],
   "execution_count": 171
  },
  {
   "metadata": {
    "ExecuteTime": {
     "end_time": "2025-09-09T18:52:52.640346Z",
     "start_time": "2025-09-09T18:52:52.636036Z"
    }
   },
   "cell_type": "code",
   "source": [
    "def printPuzzle(puzzle):\n",
    "    for row in range(9):\n",
    "        for column in range(8):\n",
    "            print(puzzle[row][column].value + \",\", end = \"\")\n",
    "        print(puzzle[row][8].value)\n",
    "    print(\"\\n\")"
   ],
   "id": "36ae2335a317a646",
   "outputs": [],
   "execution_count": 172
  },
  {
   "metadata": {
    "ExecuteTime": {
     "end_time": "2025-09-09T18:53:05.806577Z",
     "start_time": "2025-09-09T18:53:05.797570Z"
    }
   },
   "cell_type": "code",
   "source": [
    "def generateRandomPuzzle(originalPuzzle):\n",
    "    ##want to create row consistency at the very least\n",
    "    newPuzzle = copy.deepcopy(originalPuzzle)\n",
    "    for row in range(9):\n",
    "        possibleNums = ['1','2','3','4','5','6','7','8','9']\n",
    "        #determining the possible values for the row\n",
    "        for column in range(9):\n",
    "            tile = newPuzzle[row][column]\n",
    "            if(tile.fixed):\n",
    "                possibleNums.remove(tile.value)\n",
    "        for column in range(9):\n",
    "            tile = newPuzzle[row][column]\n",
    "            if not(tile.fixed):\n",
    "                randomNum = random.choice(possibleNums)\n",
    "                tile.value = randomNum\n",
    "                possibleNums.remove(randomNum)\n",
    "    return newPuzzle"
   ],
   "id": "b4894797d4ad2d0f",
   "outputs": [],
   "execution_count": 174
  },
  {
   "metadata": {
    "ExecuteTime": {
     "end_time": "2025-09-09T18:52:52.662832600Z",
     "start_time": "2025-09-09T18:22:48.387092Z"
    }
   },
   "cell_type": "code",
   "source": [
    "class sudokuTile:\n",
    "    def __init__(self, pos, val, layer):\n",
    "        self.position = pos\n",
    "        self.layer = layer\n",
    "        self.value = val\n",
    "        self.fixed = True\n",
    "        if val == '?':\n",
    "            self.fixed = False\n",
    "            self.domain = ['1','2','3','4','5','6','7','8','9']\n",
    "        else:\n",
    "            self.domain = [val]"
   ],
   "id": "bdc25a5fdf2eae6b",
   "outputs": [],
   "execution_count": 155
  },
  {
   "metadata": {
    "ExecuteTime": {
     "end_time": "2025-09-09T18:52:52.662832600Z",
     "start_time": "2025-09-09T18:22:48.399772Z"
    }
   },
   "cell_type": "code",
   "source": [
    "#adds up all the constraints violated in the puzzle and returns the value\n",
    "def checkConstraintsViolated(p):\n",
    "    violations = 0\n",
    "    # checks if puzzle passes row rule\n",
    "    for row in range(9):\n",
    "        nums = []\n",
    "        for column in range(9):\n",
    "            nums.append(p[row][column].value)\n",
    "        newNums = [item for item in nums if item != \"?\"]\n",
    "        setNums = set(newNums)\n",
    "        violations += len(newNums)- len(setNums)\n",
    "\n",
    "    # checks if puzzle passes column rule\n",
    "    for column in range(9):\n",
    "        nums = []\n",
    "        for row in range(9):\n",
    "            nums.append(p[row][column].value)\n",
    "        newNums = [item for item in nums if item != \"?\"]\n",
    "        setNums = set(newNums)\n",
    "        violations += len(newNums)- len(setNums)\n",
    "\n",
    "    # checks if puzzle passes 3x3 grid rules\n",
    "    for i in range(3):\n",
    "        for j in range(3):\n",
    "            nums = []\n",
    "            for row in range(0 + (i * 3), (i * 3) + 3):\n",
    "                for column in range(0 + (j * 3), (j * 3) + 3):\n",
    "                    nums.append(p[row][column].value)\n",
    "            newNums = [item for item in nums if item != \"?\"]\n",
    "            setNums = set(newNums)\n",
    "            violations += len(newNums)- len(setNums)\n",
    "    return violations"
   ],
   "id": "365276fc60cb96c7",
   "outputs": [],
   "execution_count": 156
  },
  {
   "metadata": {
    "ExecuteTime": {
     "end_time": "2025-09-09T18:52:52.670718600Z",
     "start_time": "2025-09-09T18:22:48.413491Z"
    }
   },
   "cell_type": "code",
   "source": [
    "def checkPuzzle(p):\n",
    "    numConstraintsViolated = checkConstraintsViolated(p)\n",
    "    if(numConstraintsViolated > 0):\n",
    "        return False\n",
    "    else:\n",
    "        return True"
   ],
   "id": "84d0e3fe0735b1bb",
   "outputs": [],
   "execution_count": 157
  },
  {
   "metadata": {
    "ExecuteTime": {
     "end_time": "2025-09-09T18:52:52.671676Z",
     "start_time": "2025-09-09T18:22:48.425020Z"
    }
   },
   "cell_type": "code",
   "source": [
    "#Simple backtracking algorithm using a stack\n",
    "def backTracking(puzzle):\n",
    "    #setting up the stack with the inital possible values for the first tile\n",
    "    stack = [(puzzle[0][0], d) for d in puzzle[0][0].domain]\n",
    "    layer = 0\n",
    "    steps = 0\n",
    "    while len(stack) > 0:\n",
    "        # pop the top value off of the stack, and set the given tile's value to the given value\n",
    "        prevLayer = layer\n",
    "        steps += 1\n",
    "        action = stack.pop()\n",
    "        tile = action[0]\n",
    "        val = action[1]\n",
    "        tile.value = val\n",
    "        # if the value is valid for the puzzle, add all the possible values for the next position on the board to the stack\n",
    "        if (checkPuzzle(puzzle)):\n",
    "            layer = tile.layer + 1\n",
    "            # puzzle has been solved\n",
    "            if (layer == 81):\n",
    "                break\n",
    "            row = layer // 9\n",
    "            col = layer % 9\n",
    "            nextTile = puzzle[row][col]\n",
    "            for d1 in nextTile.domain:\n",
    "                stack.append((nextTile, d1))\n",
    "        # if the value is not valid, set the tile back to an unknown, and don't continue searching that path (prune said branch)\n",
    "        else:\n",
    "            if (not tile.fixed):\n",
    "                layer = tile.layer\n",
    "                tile.value = '?'\n",
    "\n",
    "        # when backtracking, cleanup all unfixed tiles by turning them back into unknowns\n",
    "        if (prevLayer > layer):\n",
    "            for i in range(layer + 1, prevLayer):\n",
    "                row = i // 9\n",
    "                col = i % 9\n",
    "                resetTile = puzzle[row][col]\n",
    "                if not (resetTile.fixed):\n",
    "                    resetTile.value = '?'\n",
    "\n",
    "            # fix for edge case where puzzle couldn't backtrack to '1' in the starting square\n",
    "            if (len(stack) == 0 and puzzle[0][0].value == '?'):\n",
    "                puzzle[0][0].value = '1'\n",
    "                nextTile = puzzle[0][1]\n",
    "                for d1 in nextTile.domain:\n",
    "                    stack.append((nextTile, d1))\n",
    "    return puzzle, steps"
   ],
   "id": "d242aa518c2b026b",
   "outputs": [],
   "execution_count": 158
  },
  {
   "metadata": {
    "ExecuteTime": {
     "end_time": "2025-09-09T18:52:52.671676Z",
     "start_time": "2025-09-09T18:22:48.438450Z"
    }
   },
   "cell_type": "code",
   "source": [
    "#Backtracking algorithm with one-step forward checking\n",
    "def forwardChecking(puzzle):\n",
    "    #setting up the stack with the inital possible values for the first tile\n",
    "    stack = [(puzzle[0][0], d) for d in puzzle[0][0].domain]\n",
    "    layer = 0\n",
    "    steps = 0\n",
    "    while len(stack) > 0:\n",
    "        # pop the top value off of the stack, and set the given tile's value to the given value\n",
    "        prevLayer = layer\n",
    "        steps += 1\n",
    "        action = stack.pop()\n",
    "        tile = action[0]\n",
    "        val = action[1]\n",
    "        tile.value = val\n",
    "        # if the value is valid for the puzzle, add all the possible values for the next position on the board to the stack\n",
    "        if (checkPuzzle(puzzle)):\n",
    "            layer = tile.layer + 1\n",
    "            # puzzle has been solved\n",
    "            if (layer == 81):\n",
    "                break\n",
    "            row = layer // 9\n",
    "            col = layer % 9\n",
    "            nextTile = puzzle[row][col]\n",
    "            #Changed for forwardTracking-- edits the domain of the next tile if value of current one interferes(same row)\n",
    "            if(tile.position[0] == nextTile.position[0]):\n",
    "                checkedDomain = [num for num in nextTile.domain if num != val]\n",
    "            else:\n",
    "                checkedDomain = nextTile.domain\n",
    "            #If there are no numbers in the new domain, the value for the given tile is not possible\n",
    "            if(len(checkedDomain) == 0):\n",
    "                layer = tile.layer\n",
    "                if (not tile.fixed):\n",
    "                    tile.value = '?'\n",
    "            for d1 in checkedDomain:\n",
    "                stack.append((nextTile, d1))\n",
    "        # if the value is not valid, set the tile back to an unknown, and don't continue searching that path (prune said branch)\n",
    "        else:\n",
    "            layer = tile.layer\n",
    "            if (not tile.fixed):\n",
    "                tile.value = '?'\n",
    "\n",
    "        # when backtracking, cleanup all unfixed tiles by turning them back into unknowns\n",
    "        if (prevLayer > layer):\n",
    "            for i in range(layer + 1, prevLayer):\n",
    "                row = i // 9\n",
    "                col = i % 9\n",
    "                resetTile = puzzle[row][col]\n",
    "                if not (resetTile.fixed):\n",
    "                    resetTile.value = '?'\n",
    "\n",
    "            # fix for edge case where puzzle couldn't backtrack to '1' in the starting square\n",
    "            if (len(stack) == 0 and puzzle[0][0].value == '?'):\n",
    "                puzzle[0][0].value = '1'\n",
    "                nextTile = puzzle[0][1]\n",
    "                for d1 in nextTile.domain:\n",
    "                    stack.append((nextTile, d1))\n",
    "    return puzzle, steps"
   ],
   "id": "ee31c3727d5c6dd4",
   "outputs": [],
   "execution_count": 159
  },
  {
   "metadata": {
    "ExecuteTime": {
     "end_time": "2025-09-09T19:08:56.753881Z",
     "start_time": "2025-09-09T19:08:56.746475Z"
    }
   },
   "cell_type": "code",
   "source": [
    "def geneticCrossover(firstPuzzle, secondPuzzle, crossoverRate):\n",
    "    newPuzzle = copy.deepcopy(firstPuzzle)\n",
    "    for row in range(9):\n",
    "        for column in range(9):\n",
    "            randomNum = random.uniform(0, 1)\n",
    "            if (randomNum <= crossoverRate):\n",
    "                newPuzzle[row][column].value = secondPuzzle[row][column].value\n",
    "    return newPuzzle\n",
    "\n",
    "def geneticMutation(mutationRate, puzzle):\n",
    "    #want to mutate by picking a random row and swapping two (unfixed) values\n",
    "    newPuzzle = copy.deepcopy(puzzle)\n",
    "    randomNum = random.uniform(0, 1)\n",
    "    if (randomNum <= mutationRate):\n",
    "        randomRow = random.randrange(0,9)\n",
    "        foundSwaps = False\n",
    "        while(not foundSwaps):\n",
    "            randomCol1 = random.randrange(0,9)\n",
    "            tile1 = newPuzzle[randomRow][randomCol1]\n",
    "            randomCol2 = random.randrange(0,9)\n",
    "            tile2 = newPuzzle[randomRow][randomCol2]\n",
    "            if not (tile1.fixed or tile2.fixed):\n",
    "                tempVal = tile1.value\n",
    "                tile1.value = tile2.value\n",
    "                tile2.value = tempVal\n",
    "                foundSwaps = True\n",
    "\n",
    "    return newPuzzle\n",
    "\n",
    "\n",
    "def geneticAlgorithm(originalPuzzle, popSize, crossoverRate, mutationRate):\n",
    "    population = {}\n",
    "    #initializing the population\n",
    "    for i in range(popSize):\n",
    "        #create new puzzle\n",
    "        randomPuzzle = generateRandomPuzzle(originalPuzzle)\n",
    "        randomPuzzle = tuple(map(tuple, randomPuzzle))\n",
    "        #calculate the fitness of the puzzle\n",
    "        fitness = 1/(checkConstraintsViolated(randomPuzzle))\n",
    "        population[randomPuzzle] = fitness\n",
    "    #applying crossover and mutation to individuals to create children\n",
    "    #number of epochs\n",
    "    for i in range(100):\n",
    "        newPopulation = {}\n",
    "        for puzzle in population:\n",
    "            selectionPopulation = copy.deepcopy(population)\n",
    "            #TOURNAMENT:: MAY THE 2 BEST WIN\n",
    "            tourneySize = 10\n",
    "            tournament = {}\n",
    "            for t in range(tourneySize):\n",
    "                randomChamp = random.choice(list(selectionPopulation.keys()))\n",
    "                tournament[randomChamp] = selectionPopulation[randomChamp]\n",
    "                selectionPopulation.pop(randomChamp)\n",
    "            firstParent = max(tournament.keys(), key=tournament.get)\n",
    "            tournament.pop(firstParent)\n",
    "            secondParent = max(tournament.keys(), key=tournament.get)\n",
    "            newPuzzle = geneticCrossover(firstParent, secondParent, crossoverRate)\n",
    "            newPuzzle = geneticMutation(mutationRate, newPuzzle)\n",
    "            #need to calculate loss of new puzzle again and add it to the new population\n",
    "            fitness = 1/(checkConstraintsViolated(newPuzzle))\n",
    "            newPuzzle = tuple(map(tuple, newPuzzle))\n",
    "            newPopulation[newPuzzle] = fitness\n",
    "        population = newPopulation\n",
    "        print(\"Iteration \", i, \"least constraints violated:\" , 1/max(population.values()))\n",
    "    finalPuzzle = max(population.keys(), key=population.get)\n",
    "    return finalPuzzle\n",
    "\n"
   ],
   "id": "3129d968940807cd",
   "outputs": [],
   "execution_count": 184
  },
  {
   "metadata": {
    "ExecuteTime": {
     "end_time": "2025-09-09T18:52:52.674682700Z",
     "start_time": "2025-09-09T18:22:48.469993Z"
    }
   },
   "cell_type": "code",
   "source": [
    "#Processes the sudoku file into a numpy array of sudokuTile objects\n",
    "arr = []\n",
    "layer = 0\n",
    "with open(PUZZLE_PATH, 'r') as file:\n",
    "    firstLine = True\n",
    "    rowNum = 0\n",
    "    for line in file:\n",
    "        colNum = 0\n",
    "        processedLine = line.rstrip('\\n')\n",
    "        if(firstLine):\n",
    "            row = processedLine[3:].split(\",\")\n",
    "            firstLine = False\n",
    "        else:\n",
    "            row = processedLine.split(\",\")\n",
    "        tileRow = []\n",
    "        for num in row:\n",
    "            tile = sudokuTile([rowNum, colNum], num, layer)\n",
    "            layer += 1\n",
    "            tileRow.append(tile)\n",
    "            colNum += 1\n",
    "        arr.append(tileRow)\n",
    "        rowNum += 1\n",
    "    file.close()\n",
    "puzzle = numpy.array(arr)\n",
    "originalPuzzle = copy.deepcopy(puzzle)\n",
    "if(ALGORITHM == 'bt'):\n",
    "    solvedPuzzle, steps = backTracking(puzzle)\n",
    "elif(ALGORITHM == 'fc'):\n",
    "    solvedPuzzle, steps = forwardChecking(puzzle)\n",
    "print(ALGORITHM)\n",
    "print(PUZZLE_PATH)\n",
    "print(\"=====================\")\n",
    "print(\"Original Puzzle: \")\n",
    "printPuzzle(originalPuzzle)\n",
    "print(\"Solved Puzzle in\", steps, \"steps:\")\n",
    "printPuzzle(solvedPuzzle)\n",
    "\n",
    "\n",
    "#Writing the finished puzzle to a file\n",
    "fileName = GROUP_ID + '_' + ALGORITHM + \"_\" + PUZZLE_TYPE + \"_\" + PUZZLE_PATH.lstrip(\"puzzles/\")\n",
    "with open(fileName, 'w') as file:\n",
    "    for row in range(9):\n",
    "        for column in range(8):\n",
    "            file.write(puzzle[row][column].value + \",\")\n",
    "        file.write(puzzle[row][8].value + '\\n')\n",
    "    file.close()"
   ],
   "id": "d53a9a8c8530c278",
   "outputs": [
    {
     "name": "stdout",
     "output_type": "stream",
     "text": [
      "bt\n",
      "puzzles/Easy-P3.txt\n",
      "=====================\n",
      "Original Puzzle: \n",
      "?,?,2,?,?,9,4,8,7\n",
      "?,?,7,?,?,?,5,9,1\n",
      "?,5,?,1,?,7,3,?,?\n",
      "2,?,?,?,9,?,?,7,?\n",
      "?,?,?,8,?,5,?,?,?\n",
      "?,9,?,?,3,?,?,?,5\n",
      "?,?,1,9,?,6,?,3,?\n",
      "3,2,6,?,?,?,1,?,?\n",
      "9,7,4,3,?,?,2,?,?\n",
      "\n",
      "\n",
      "Solved Puzzle in 18587 steps:\n",
      "1,3,2,5,6,9,4,8,7\n",
      "6,4,7,2,8,3,5,9,1\n",
      "8,5,9,1,4,7,3,2,6\n",
      "2,1,5,6,9,4,8,7,3\n",
      "7,6,3,8,1,5,9,4,2\n",
      "4,9,8,7,3,2,6,1,5\n",
      "5,8,1,9,2,6,7,3,4\n",
      "3,2,6,4,7,8,1,5,9\n",
      "9,7,4,3,5,1,2,6,8\n",
      "\n",
      "\n"
     ]
    }
   ],
   "execution_count": 161
  },
  {
   "metadata": {
    "jupyter": {
     "is_executing": true
    },
    "ExecuteTime": {
     "start_time": "2025-09-09T20:26:18.303981Z"
    }
   },
   "cell_type": "code",
   "source": [
    "originalPuzzle = arr\n",
    "bestPuzzle = geneticAlgorithm(originalPuzzle, 150, 0.5, .1)\n",
    "printPuzzle(bestPuzzle)\n",
    "print(checkConstraintsViolated(bestPuzzle))\n",
    "\n"
   ],
   "id": "bac08a8810c338b3",
   "outputs": [
    {
     "name": "stdout",
     "output_type": "stream",
     "text": [
      "Iteration  0 least constraints violated: 38.0\n",
      "Iteration  1 least constraints violated: 36.0\n",
      "Iteration  2 least constraints violated: 33.0\n",
      "Iteration  3 least constraints violated: 28.0\n",
      "Iteration  4 least constraints violated: 25.0\n",
      "Iteration  5 least constraints violated: 23.0\n",
      "Iteration  6 least constraints violated: 21.0\n",
      "Iteration  7 least constraints violated: 21.0\n",
      "Iteration  8 least constraints violated: 19.0\n",
      "Iteration  9 least constraints violated: 19.0\n",
      "Iteration  10 least constraints violated: 19.0\n",
      "Iteration  11 least constraints violated: 18.0\n",
      "Iteration  12 least constraints violated: 18.0\n",
      "Iteration  13 least constraints violated: 17.0\n",
      "Iteration  14 least constraints violated: 17.0\n",
      "Iteration  15 least constraints violated: 16.0\n",
      "Iteration  16 least constraints violated: 16.0\n",
      "Iteration  17 least constraints violated: 15.0\n",
      "Iteration  18 least constraints violated: 14.0\n",
      "Iteration  19 least constraints violated: 14.0\n",
      "Iteration  20 least constraints violated: 14.0\n",
      "Iteration  21 least constraints violated: 14.0\n",
      "Iteration  22 least constraints violated: 13.0\n",
      "Iteration  23 least constraints violated: 13.0\n",
      "Iteration  24 least constraints violated: 11.0\n",
      "Iteration  25 least constraints violated: 11.0\n",
      "Iteration  26 least constraints violated: 11.0\n",
      "Iteration  27 least constraints violated: 11.0\n",
      "Iteration  28 least constraints violated: 11.0\n",
      "Iteration  29 least constraints violated: 11.0\n",
      "Iteration  30 least constraints violated: 11.0\n",
      "Iteration  31 least constraints violated: 11.0\n",
      "Iteration  32 least constraints violated: 11.0\n",
      "Iteration  33 least constraints violated: 11.0\n",
      "Iteration  34 least constraints violated: 10.0\n",
      "Iteration  35 least constraints violated: 10.0\n",
      "Iteration  36 least constraints violated: 10.0\n",
      "Iteration  37 least constraints violated: 10.0\n",
      "Iteration  38 least constraints violated: 10.0\n",
      "Iteration  39 least constraints violated: 10.0\n",
      "Iteration  40 least constraints violated: 10.0\n",
      "Iteration  41 least constraints violated: 10.0\n",
      "Iteration  42 least constraints violated: 10.0\n",
      "Iteration  43 least constraints violated: 10.0\n",
      "Iteration  44 least constraints violated: 10.0\n",
      "Iteration  45 least constraints violated: 10.0\n",
      "Iteration  46 least constraints violated: 10.0\n",
      "Iteration  47 least constraints violated: 10.0\n",
      "Iteration  48 least constraints violated: 10.0\n",
      "Iteration  49 least constraints violated: 10.0\n",
      "Iteration  50 least constraints violated: 10.0\n",
      "Iteration  51 least constraints violated: 10.0\n",
      "Iteration  52 least constraints violated: 10.0\n",
      "Iteration  53 least constraints violated: 10.0\n",
      "Iteration  54 least constraints violated: 10.0\n",
      "Iteration  55 least constraints violated: 10.0\n",
      "Iteration  56 least constraints violated: 10.0\n",
      "Iteration  57 least constraints violated: 10.0\n",
      "Iteration  58 least constraints violated: 10.0\n",
      "Iteration  59 least constraints violated: 10.0\n",
      "Iteration  60 least constraints violated: 10.0\n",
      "Iteration  61 least constraints violated: 10.0\n",
      "Iteration  62 least constraints violated: 10.0\n",
      "Iteration  63 least constraints violated: 10.0\n",
      "Iteration  64 least constraints violated: 10.0\n",
      "Iteration  65 least constraints violated: 10.0\n",
      "Iteration  66 least constraints violated: 10.0\n",
      "Iteration  67 least constraints violated: 10.0\n",
      "Iteration  68 least constraints violated: 10.0\n",
      "Iteration  69 least constraints violated: 10.0\n"
     ]
    }
   ],
   "execution_count": null
  },
  {
   "metadata": {
    "ExecuteTime": {
     "end_time": "2025-09-09T18:53:12.053808Z",
     "start_time": "2025-09-09T18:53:12.044167Z"
    }
   },
   "cell_type": "code",
   "source": [
    "randomPuzzle = generateRandomPuzzle(originalPuzzle)\n",
    "printPuzzle(randomPuzzle)"
   ],
   "id": "8df6dc45e6c42de6",
   "outputs": [
    {
     "name": "stdout",
     "output_type": "stream",
     "text": [
      "5,1,2,6,3,9,4,8,7\n",
      "4,8,7,2,3,6,5,9,1\n",
      "8,5,9,1,4,7,3,6,2\n",
      "2,6,8,1,9,3,4,7,5\n",
      "2,1,6,8,3,5,7,9,4\n",
      "6,9,2,1,3,7,4,8,5\n",
      "5,4,1,9,7,6,2,3,8\n",
      "3,2,6,8,5,9,1,4,7\n",
      "9,7,4,3,8,6,2,1,5\n",
      "\n",
      "\n"
     ]
    }
   ],
   "execution_count": 175
  }
 ],
 "metadata": {
  "kernelspec": {
   "display_name": "Python 3",
   "language": "python",
   "name": "python3"
  },
  "language_info": {
   "codemirror_mode": {
    "name": "ipython",
    "version": 2
   },
   "file_extension": ".py",
   "mimetype": "text/x-python",
   "name": "python",
   "nbconvert_exporter": "python",
   "pygments_lexer": "ipython2",
   "version": "2.7.6"
  }
 },
 "nbformat": 4,
 "nbformat_minor": 5
}
